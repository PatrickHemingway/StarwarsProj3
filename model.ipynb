{
 "cells": [
  {
   "cell_type": "code",
   "execution_count": 1,
   "metadata": {},
   "outputs": [
    {
     "name": "stdout",
     "output_type": "stream",
     "text": [
      "             timestamp  unit_id unit_type empire_or_resistance  location_x  \\\n",
      "0  2025-07-08 16:25:07        1     at-at           resistance           3   \n",
      "1  2025-07-08 16:25:06        2     at-at           resistance           5   \n",
      "2  2025-07-08 16:25:05        3   unknown               empire           1   \n",
      "3  2025-07-08 16:25:04        4     at-st           resistance           5   \n",
      "4  2025-07-08 16:25:03        5   unknown           resistance           9   \n",
      "\n",
      "   location_y  destination_x  destination_y homeworld  \n",
      "0           4              5              4   Dagobah  \n",
      "1           3             10              1    Mirial  \n",
      "2           5              9             10   Tholoth  \n",
      "3           3              4              6   Iktotch  \n",
      "4           3              8              7     Naboo  \n"
     ]
    }
   ],
   "source": [
    "import pandas as pd\n",
    "\n",
    "df = pd.read_csv('troop_movements.csv')\n",
    "\n",
    "print(df.head())"
   ]
  }
 ],
 "metadata": {
  "kernelspec": {
   "display_name": "Python 3",
   "language": "python",
   "name": "python3"
  },
  "language_info": {
   "codemirror_mode": {
    "name": "ipython",
    "version": 3
   },
   "file_extension": ".py",
   "mimetype": "text/x-python",
   "name": "python",
   "nbconvert_exporter": "python",
   "pygments_lexer": "ipython3",
   "version": "3.12.3"
  }
 },
 "nbformat": 4,
 "nbformat_minor": 2
}
